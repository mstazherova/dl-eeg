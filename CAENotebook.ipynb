{
 "cells": [
  {
   "cell_type": "code",
   "execution_count": 1,
   "metadata": {},
   "outputs": [
    {
     "name": "stderr",
     "output_type": "stream",
     "text": [
      "Using TensorFlow backend.\n"
     ]
    },
    {
     "name": "stdout",
     "output_type": "stream",
     "text": [
      "Train on 230259 samples, validate on 25585 samples\n",
      "Epoch 1/30\n",
      "230259/230259 [==============================] - 70s - loss: 0.0279 - val_loss: 0.0242\n",
      "Epoch 2/30\n",
      "230259/230259 [==============================] - 69s - loss: 0.0134 - val_loss: 0.0109\n",
      "Epoch 3/30\n",
      "230259/230259 [==============================] - 67s - loss: 0.0098 - val_loss: 0.0060\n",
      "Epoch 4/30\n",
      "230259/230259 [==============================] - 69s - loss: 0.0078 - val_loss: 0.0053\n",
      "Epoch 5/30\n",
      "230259/230259 [==============================] - 68s - loss: 0.0068 - val_loss: 0.0061\n",
      "Epoch 6/30\n",
      "230259/230259 [==============================] - 68s - loss: 0.0059 - val_loss: 0.0091\n",
      "Epoch 7/30\n",
      "230259/230259 [==============================] - 68s - loss: 0.0054 - val_loss: 0.0039\n",
      "Epoch 8/30\n",
      "230259/230259 [==============================] - 68s - loss: 0.0049 - val_loss: 0.0036\n",
      "Epoch 9/30\n",
      "230259/230259 [==============================] - 68s - loss: 0.0047 - val_loss: 0.0035\n",
      "Epoch 10/30\n",
      "230259/230259 [==============================] - 68s - loss: 0.0043 - val_loss: 0.0115\n",
      "Epoch 11/30\n",
      "230259/230259 [==============================] - 68s - loss: 0.0041 - val_loss: 0.0033\n",
      "Epoch 12/30\n",
      "230259/230259 [==============================] - 68s - loss: 0.0039 - val_loss: 0.0030\n",
      "Epoch 13/30\n",
      "230259/230259 [==============================] - 68s - loss: 0.0039 - val_loss: 0.0035\n",
      "Epoch 14/30\n",
      "230259/230259 [==============================] - 68s - loss: 0.0036 - val_loss: 0.0027\n",
      "Epoch 15/30\n",
      "230259/230259 [==============================] - 68s - loss: 0.0035 - val_loss: 0.0022\n",
      "Epoch 16/30\n",
      "230259/230259 [==============================] - 68s - loss: 0.0032 - val_loss: 0.0024\n",
      "Epoch 17/30\n",
      "230259/230259 [==============================] - 65s - loss: 0.0033 - val_loss: 0.0031\n",
      "Epoch 18/30\n",
      "230259/230259 [==============================] - 64s - loss: 0.0031 - val_loss: 0.0038\n",
      "Epoch 19/30\n",
      "230259/230259 [==============================] - 64s - loss: 0.0030 - val_loss: 0.0043\n",
      "Epoch 20/30\n",
      "230259/230259 [==============================] - 64s - loss: 0.0030 - val_loss: 0.0034\n",
      "Epoch 21/30\n",
      "230259/230259 [==============================] - 64s - loss: 0.0029 - val_loss: 0.0024\n",
      "Epoch 22/30\n",
      "230259/230259 [==============================] - 64s - loss: 0.0028 - val_loss: 0.0020\n",
      "Epoch 23/30\n",
      "230259/230259 [==============================] - 64s - loss: 0.0028 - val_loss: 0.0050\n",
      "Epoch 24/30\n",
      "230259/230259 [==============================] - 64s - loss: 0.0027 - val_loss: 0.0023\n",
      "Epoch 25/30\n",
      "230259/230259 [==============================] - 64s - loss: 0.0026 - val_loss: 0.0035\n",
      "Epoch 26/30\n",
      "230259/230259 [==============================] - 64s - loss: 0.0026 - val_loss: 0.0032\n",
      "Epoch 27/30\n",
      "230259/230259 [==============================] - 64s - loss: 0.0025 - val_loss: 0.0021\n",
      "Epoch 28/30\n",
      "230259/230259 [==============================] - 64s - loss: 0.0025 - val_loss: 0.0023\n",
      "Epoch 29/30\n",
      "230259/230259 [==============================] - 63s - loss: 0.0024 - val_loss: 0.0017\n",
      "Epoch 30/30\n",
      "230259/230259 [==============================] - 65s - loss: 0.0024 - val_loss: 0.0033\n"
     ]
    }
   ],
   "source": [
    "# import \n",
    "import sys\n",
    "sys.path.insert(0, '/project')\n",
    "\n",
    "from DenoisingConvolutionalAutoEncoder import DenoisingConvolutionalAutoEncoder\n",
    "from ConvolutionalAutoEncoder import ConvolutionalAutoEncoder\n",
    "\n",
    "\n",
    "cae = ConvolutionalAutoEncoder()\n",
    "cae.train_from_dataset(epochs=30)"
   ]
  },
  {
   "cell_type": "code",
   "execution_count": 2,
   "metadata": {},
   "outputs": [],
   "source": [
    "import matplotlib.pyplot as plt\n",
    "import h5py\n",
    "import numpy as np\n",
    "\n",
    "h5_file = '/data/pgram_norm.hdf5'\n",
    "data = []\n",
    "with h5py.File(h5_file) as f:\n",
    "    data = np.array(f['data'])"
   ]
  },
  {
   "cell_type": "code",
   "execution_count": 3,
   "metadata": {},
   "outputs": [
    {
     "data": {
      "text/plain": [
       "<matplotlib.image.AxesImage at 0x7f6a8c6ea860>"
      ]
     },
     "execution_count": 3,
     "metadata": {},
     "output_type": "execute_result"
    },
    {
     "data": {
      "image/png": "[encoded data removed]",
      "text/plain": [
       "<matplotlib.figure.Figure at 0x7f6a8cf63ba8>"
      ]
     },
     "metadata": {},
     "output_type": "display_data"
    }
   ],
   "source": [
    "%matplotlib inline \n",
    "data1 = np.rollaxis(data,2,5)\n",
    "plt.imshow(data1[5][0])"
   ]
  },
  {
   "cell_type": "code",
   "execution_count": 4,
   "metadata": {},
   "outputs": [
    {
     "data": {
      "text/plain": [
       "<matplotlib.image.AxesImage at 0x7f6a8cfda390>"
      ]
     },
     "execution_count": 4,
     "metadata": {},
     "output_type": "execute_result"
    },
    {
     "data": {
      "image/png": "[encoded data removed]",
      "text/plain": [
       "<matplotlib.figure.Figure at 0x7f6a8c67ec18>"
      ]
     },
     "metadata": {},
     "output_type": "display_data"
    }
   ],
   "source": [
    "data2 = data1.reshape((data1.shape[0]*data1.shape[1], 32, 32, 3))\n",
    "plt.imshow(data2[0])"
   ]
  },
  {
   "cell_type": "code",
   "execution_count": 5,
   "metadata": {},
   "outputs": [],
   "source": [
    "m = cae.Model\n",
    "preds = m.predict(data2[0:32])"
   ]
  },
  {
   "cell_type": "code",
   "execution_count": 12,
   "metadata": {},
   "outputs": [
    {
     "data": {
      "text/plain": [
       "<matplotlib.image.AxesImage at 0x7f6a807a85c0>"
      ]
     },
     "execution_count": 12,
     "metadata": {},
     "output_type": "execute_result"
    },
    {
     "data": {
      "image/png": "[encoded data removed]",
      "text/plain": [
       "<matplotlib.figure.Figure at 0x7f6a88048e80>"
      ]
     },
     "metadata": {},
     "output_type": "display_data"
    }
   ],
   "source": [
    "mask = np.load('/project/mask.npy')\n",
    "plt.imshow(np.concatenate((data2[5], preds[5]*mask), axis=1))"
   ]
  },
  {
   "cell_type": "code",
   "execution_count": 40,
   "metadata": {},
   "outputs": [
    {
     "name": "stdout",
     "output_type": "stream",
     "text": [
      "[[[ 0.  0.  0.]\n",
      "  [ 0.  0.  0.]\n",
      "  [ 0.  0.  0.]\n",
      "  ..., \n",
      "  [ 0.  0.  0.]\n",
      "  [ 0.  0.  0.]\n",
      "  [ 0.  0.  0.]]\n",
      "\n",
      " [[ 0.  0.  0.]\n",
      "  [ 0.  0.  0.]\n",
      "  [ 0.  0.  0.]\n",
      "  ..., \n",
      "  [ 0.  0.  0.]\n",
      "  [ 0.  0.  0.]\n",
      "  [ 0.  0.  0.]]\n",
      "\n",
      " [[ 0.  0.  0.]\n",
      "  [ 0.  0.  0.]\n",
      "  [ 0.  0.  0.]\n",
      "  ..., \n",
      "  [ 0.  0.  0.]\n",
      "  [ 0.  0.  0.]\n",
      "  [ 0.  0.  0.]]\n",
      "\n",
      " ..., \n",
      " [[ 0.  0.  0.]\n",
      "  [ 0.  0.  0.]\n",
      "  [ 0.  0.  0.]\n",
      "  ..., \n",
      "  [ 0.  0.  0.]\n",
      "  [ 0.  0.  0.]\n",
      "  [ 0.  0.  0.]]\n",
      "\n",
      " [[ 0.  0.  0.]\n",
      "  [ 0.  0.  0.]\n",
      "  [ 0.  0.  0.]\n",
      "  ..., \n",
      "  [ 0.  0.  0.]\n",
      "  [ 0.  0.  0.]\n",
      "  [ 0.  0.  0.]]\n",
      "\n",
      " [[ 0.  0.  0.]\n",
      "  [ 0.  0.  0.]\n",
      "  [ 0.  0.  0.]\n",
      "  ..., \n",
      "  [ 0.  0.  0.]\n",
      "  [ 0.  0.  0.]\n",
      "  [ 0.  0.  0.]]]\n"
     ]
    }
   ],
   "source": [
    "copydata = data2[0]\n",
    "copydata[copydata.nonzero()]=1.0\n",
    "print(copydata)\n",
    "np.save('mask.npy', copydata)\n",
    "#print(copydata[0][:][3])"
   ]
  },
  {
   "cell_type": "code",
   "execution_count": null,
   "metadata": {
    "collapsed": true
   },
   "outputs": [],
   "source": []
  }
 ],
 "metadata": {
  "kernelspec": {
   "display_name": "Python 3",
   "language": "python",
   "name": "python3"
  },
  "language_info": {
   "codemirror_mode": {
    "name": "ipython",
    "version": 3
   },
   "file_extension": ".py",
   "mimetype": "text/x-python",
   "name": "python",
   "nbconvert_exporter": "python",
   "pygments_lexer": "ipython3",
   "version": "3.6.1"
  }
 },
 "nbformat": 4,
 "nbformat_minor": 1
}
